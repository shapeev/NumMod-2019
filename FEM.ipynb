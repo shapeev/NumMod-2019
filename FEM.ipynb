{
 "cells": [
  {
   "cell_type": "markdown",
   "metadata": {},
   "source": [
    "# Recitation Course on FEM"
   ]
  },
  {
   "cell_type": "markdown",
   "metadata": {},
   "source": [
    "# Finite Element Method"
   ]
  },
  {
   "cell_type": "code",
   "execution_count": 23,
   "metadata": {
    "collapsed": true
   },
   "outputs": [],
   "source": [
    "# Import packages\n",
    "import numpy as np\n",
    "\n",
    "# Create mesh, using GMSH"
   ]
  },
  {
   "cell_type": "markdown",
   "metadata": {},
   "source": [
    "http://linuxg.net/how-to-install-gmsh-2-8-5-on-the-most-popular-linux-systems/\n",
    "http://gmsh.info \n",
    "\n",
    "Why mesh like that? \n",
    "Delaunay triangulation for a given set of discrete points in a plane is a triangulation such that no point is inside the circumcircle of any triangle. Delaunay triangulations maximize the minimum angle of all the angles of the triangles in the triangulation (more https://en.wikipedia.org/wiki/Delaunay_triangulation)"
   ]
  },
  {
   "cell_type": "code",
   "execution_count": 24,
   "metadata": {},
   "outputs": [
    {
     "name": "stdout",
     "output_type": "stream",
     "text": [
      "[[   1.            0.            0.            0.        ]\n",
      " [   2.            1.            0.            0.        ]\n",
      " [   3.            0.            1.            0.        ]\n",
      " ..., \n",
      " [ 527.            0.79227974    0.90715345    0.        ]\n",
      " [ 528.            0.81075793    0.8623451     0.        ]\n",
      " [ 529.            0.9454054     0.77009422    0.        ]]\n",
      "[[   1.    2.    2. ...,   87.  184.  185.]\n",
      " [   2.    2.    2. ...,  184.   26.  185.]\n",
      " [   3.    2.    2. ...,  184.   25.   26.]\n",
      " ..., \n",
      " [ 974.    2.    2. ...,  506.  519.  529.]\n",
      " [ 975.    2.    2. ...,  506.  181.  519.]\n",
      " [ 976.    2.    2. ...,  529.  519.  167.]]\n"
     ]
    }
   ],
   "source": [
    "# Load preprocessed .txt files with geometry\n",
    "\n",
    "# coordinates of all nodes\n",
    "p = np.loadtxt('nodes_2ref.txt')\n",
    "# unique triangles defined as the combination of 3 nodes \n",
    "t = np.loadtxt('triangles_2ref.txt')\n",
    "\n",
    "# print\n",
    "print(p)\n",
    "print(t)"
   ]
  },
  {
   "cell_type": "code",
   "execution_count": 25,
   "metadata": {},
   "outputs": [
    {
     "name": "stdout",
     "output_type": "stream",
     "text": [
      "[[   1.            0.            0.        ]\n",
      " [   2.            1.            0.        ]\n",
      " [   3.            0.            1.        ]\n",
      " ..., \n",
      " [ 527.            0.79227974    0.90715345]\n",
      " [ 528.            0.81075793    0.8623451 ]\n",
      " [ 529.            0.9454054     0.77009422]]\n",
      "[[   1.   87.  184.  185.]\n",
      " [   2.  184.   26.  185.]\n",
      " [   3.  184.   25.   26.]\n",
      " ..., \n",
      " [ 974.  506.  519.  529.]\n",
      " [ 975.  506.  181.  519.]\n",
      " [ 976.  529.  519.  167.]]\n"
     ]
    }
   ],
   "source": [
    "# Some more post-processing \n",
    "\n",
    "# since we are modeling the 2D case\n",
    "p = np.delete(p, 3, 1)  # delete fourth column of p\n",
    "\n",
    "# deleted collumns are gmsh attributes related with the orientation of the surface that are not relevant in this case\n",
    "t = np.delete(t, 1, 1)  # delete second column of t\n",
    "t = np.delete(t, 1, 1)  # delete second column of t\n",
    "t = np.delete(t, 1, 1)  # delete second column of t\n",
    "t = np.delete(t, 1, 1)  # delete second column of t\n",
    "\n",
    "print(p)\n",
    "print(t)\n"
   ]
  },
  {
   "cell_type": "code",
   "execution_count": 26,
   "metadata": {},
   "outputs": [
    {
     "name": "stdout",
     "output_type": "stream",
     "text": [
      "529\n",
      "976\n"
     ]
    },
    {
     "data": {
      "text/plain": [
       "(976, 4)"
      ]
     },
     "execution_count": 26,
     "metadata": {},
     "output_type": "execute_result"
    }
   ],
   "source": [
    "# Get the number of nodes and triangles\n",
    "N = int(p[-1,0])\n",
    "T = int(t[-1,0])\n",
    "\n",
    "print(N)\n",
    "print(T)\n",
    "np.shape(p)\n",
    "np.shape(t)"
   ]
  },
  {
   "cell_type": "markdown",
   "metadata": {},
   "source": [
    "### Assembling the matrix\n",
    "\n",
    "Classical way:\n",
    "\n",
    "* Notice that $\\nabla v_k$ are piecewise constant:\n",
    "$$\n",
    "A_{k,\\ell}\n",
    "= \\int_{\\Omega} \\nabla v_k \\cdot \\nabla v_\\ell\n",
    "= \\sum_{T\\in\\mathcal T} |T| (\\nabla v_k|_T) \\cdot (\\nabla v_\\ell|_T),\n",
    "$$\n",
    "where $|T|$ is the volume or area of $T$\n",
    "\n",
    "* Pseudocode:\n",
    "```\n",
    "for k = 1 to n\n",
    "  for l = 1 to n\n",
    "    for all T\n",
    "      if(k and l are nodes of T)\n",
    "      // otherwise the integral is zero\n",
    "        A(k,l) += |T|\n",
    "           *(\\nabla v_k|_T)\n",
    "           *(\\nabla v_l|_T)\n",
    "```\n",
    "\n",
    "* The loops in the algorithm are often reversed:\n",
    "```\n",
    "for all T\n",
    "    for k, vertices of T\n",
    "        for l, vertices of T\n",
    "            A(k,l) += <<as before>>\n",
    "```\n",
    "\n",
    "\n",
    "* We have\n",
    "$$\n",
    "2 |T| = \\det \\left(\n",
    "\\begin{array}{cc}\n",
    "x _2 - x _1 & y _2 - y _1 \\\\\n",
    "x _3 - x _1 & y _3 - y _1 \\\\\n",
    "\\end{array}\n",
    "\\right)\n",
    "$$\n",
    "Let $T$'s nodes being $n_1$, $n_2$, $n_3$. Denote $\\eta_i := v_{n_i}$.\n",
    "Then it can be shown\n",
    "$$\n",
    "\\nabla \\eta _j = \\frac{1}{2|T|}\n",
    "\\left(\n",
    "\\begin{array}{cc}\n",
    "y _{j+1} - y _{j+2} \\\\\n",
    "x _{j+2} - x _{j+1} \\\\\n",
    "\\end{array}\n",
    "\\right)\n",
    "$$\n",
    "Here we mean $(x_4,y_4) = (x_1,y_1)$, $(x_5,y_5) = (x_2,y_2)$\n",
    "\n",
    "* Pseudocode:\n",
    "```\n",
    "for all T\n",
    "    calculate M\n",
    "    for k=1..3\n",
    "        for l=1..3\n",
    "            A(nodes(k),nodes(l)) += M(k,l)\n",
    "```\n"
   ]
  },
  {
   "cell_type": "markdown",
   "metadata": {},
   "source": [
    "### Assembling the right-hand side (forces)\n",
    "\n",
    "$$\n",
    "\\int_T f \\eta_i \\approx f(x_S, y_S) \\int_\\Omega \\eta_i,\n",
    "$$\n",
    "where $(x_S,y_S)$ is the center of mass of the triangle. \n",
    "\n",
    "* Pseudocode:\n",
    "```\n",
    "for all T\n",
    "  calculate f(xS, yS)\n",
    "  for k=1..3\n",
    "    f(nodes(k)) += 1/3 * area(T) * f(xS, yS)\n",
    "```"
   ]
  },
  {
   "cell_type": "markdown",
   "metadata": {},
   "source": [
    "### How about boundary conditions?\n",
    "\n",
    "* pseudocode:\n",
    "```\n",
    "A = zero matrix for free nodes\n",
    "for k = free nodes\n",
    "    for l = free nodes\n",
    "        for all T\n",
    "            <<SAME>>\n",
    "```\n",
    "This fills only the needed rows & columns of the matrix, but for convenience the loops in the algorithm are often reversed:\n",
    "\n",
    "* pseudocode\n",
    "```\n",
    "A = zero matrix for all nodes\n",
    "for all T\n",
    "    <<SAME>>\n",
    "remove rows and columns from A corr. to non-free nodes\n",
    "```\n",
    "\n",
    "* The **free nodes** are those that are on $\\Gamma_2$ in\n",
    "$$\n",
    "\\begin{align*}\n",
    "-\\Delta u &= 0\\qquad\\text{on $\\Omega$}\n",
    "\\\\\n",
    "u &= 0\\qquad\\text{on $\\Gamma_1$}\n",
    "\\\\\n",
    "u_n &= 0\\qquad\\text{on $\\Gamma_2$}\n",
    "\\end{align*}\n",
    "$$\n",
    "\n",
    "* Alternatively, one can **replace** the corresponding row and column by\n",
    "$$\n",
    "\\begin{pmatrix}\n",
    "\\cdot & 0 & \\cdot & \\cdot \\\\\n",
    "0 & 1 & 0 & 0\\\\\n",
    "\\cdot & 0 & \\cdot & \\cdot \\\\\n",
    "\\cdot & 0 & \\cdot & \\cdot \\\\\n",
    "\\end{pmatrix}\n",
    "$$"
   ]
  },
  {
   "cell_type": "code",
   "execution_count": 10,
   "metadata": {},
   "outputs": [
    {
     "name": "stdout",
     "output_type": "stream",
     "text": [
      "[ 0.          0.          0.          0.          0.          0.          0.\n",
      "  0.          0.          0.          0.          0.          0.          0.\n",
      "  0.          0.          0.          0.          0.          0.          0.\n",
      "  0.          0.          0.          0.          0.          0.          0.\n",
      "  0.          0.          0.          0.          0.          0.          0.\n",
      "  0.          0.          0.          0.          0.          0.          0.\n",
      "  0.          0.          0.          0.          0.          0.          0.\n",
      "  0.          0.          0.          0.          0.          0.          0.\n",
      "  0.          0.          0.          0.          0.          0.          0.\n",
      "  0.          0.          0.          0.          0.          0.          0.\n",
      "  0.          0.          0.          0.          0.          0.          0.\n",
      "  0.          0.          0.          0.07064266  0.0577692   0.04591543\n",
      "  0.0447374   0.05439984  0.02625173  0.01114588  0.05512693  0.07092059\n",
      "  0.05628082  0.04172896  0.04099414  0.06818172  0.06719163  0.05565985\n",
      "  0.05604654  0.0361621   0.02697483  0.03571443  0.02657354  0.03039921\n",
      "  0.0353267   0.01873399  0.02578922  0.02650842  0.0202095   0.01261868\n",
      "  0.03539366  0.0322792   0.06043121  0.04186264  0.06537221  0.06457691\n",
      "  0.06643302  0.04895666  0.05816848  0.0473859   0.05219069  0.07361574\n",
      "  0.02737667  0.07202677  0.03177507  0.02466597  0.01562229  0.0494623\n",
      "  0.06582683  0.02493641  0.07189081  0.07057167  0.04193312  0.05782616\n",
      "  0.06429755  0.02029449  0.04645636  0.04852428  0.0546115   0.0435555\n",
      "  0.05993124  0.06684439  0.06250729  0.02939442  0.04937417  0.03027014\n",
      "  0.05550453  0.01722739  0.06589035  0.03394535  0.04230632  0.05631315\n",
      "  0.04211978  0.02008137  0.0229281   0.07063315  0.03754444  0.04576684\n",
      "  0.04119998  0.01969681  0.02280741  0.04341243  0.02482999  0.04102759\n",
      "  0.06152428  0.00587556  0.06096922  0.02486783  0.01345375  0.02585503\n",
      "  0.01507347  0.02043876  0.03341562  0.02023332  0.01454393  0.01382853\n",
      "  0.05495015  0.00659657  0.00661241  0.04623103  0.01655151  0.02485909\n",
      "  0.02529449  0.01315669  0.00698041  0.02408003  0.00536101  0.00658695\n",
      "  0.0103117   0.00945437  0.01081247  0.00997201  0.006452    0.00810263\n",
      "  0.01962184  0.01331844  0.01856921  0.01491324  0.01425676  0.01381198\n",
      "  0.01434265  0.01668134  0.01641957  0.03566653  0.03140264  0.04181665\n",
      "  0.019472    0.03305993  0.06846478  0.06297559  0.06652632  0.06212968\n",
      "  0.06153847  0.06649635  0.04855896  0.04245003  0.04129806  0.05061041\n",
      "  0.05143527  0.0422949   0.0464497   0.05417134  0.03953267  0.04182821\n",
      "  0.05198819  0.04667048  0.04728191  0.05196028  0.05694059  0.04314588\n",
      "  0.0370586   0.07072951  0.0693623   0.06749441  0.07216007  0.07342946\n",
      "  0.07292947  0.0133308   0.01311396  0.02605056  0.03026014  0.00792974\n",
      "  0.00871551  0.02132247  0.0460511   0.0555144   0.07190571  0.07285517\n",
      "  0.07329332  0.07063104  0.06775941  0.06940904  0.07134319  0.06823109\n",
      "  0.07269807  0.03175473  0.026401    0.03785277  0.05972447  0.05666569\n",
      "  0.06161285  0.02852065  0.02362002  0.03044595  0.05114914  0.05245786\n",
      "  0.04049272  0.04822206  0.05591212  0.06117812  0.05004972  0.03994559\n",
      "  0.05721399  0.051647    0.05366641  0.05500688  0.06467524  0.06339595\n",
      "  0.06223357  0.06675632  0.06168613  0.06939136  0.06603126  0.06807557\n",
      "  0.06528908  0.06299944  0.06063699  0.05928308  0.06038244  0.06409236\n",
      "  0.03016989  0.03952075  0.02953716  0.0236196   0.03793873  0.03861879\n",
      "  0.05550134  0.06070577  0.00959227  0.00874018  0.02270049  0.02704456\n",
      "  0.06147622  0.06222968  0.05657215  0.06157347  0.01249828  0.01195724\n",
      "  0.01454528  0.0253539   0.07124838  0.07267816  0.06893681  0.06873182\n",
      "  0.05213091  0.05370697  0.04745471  0.04093518  0.04301286  0.04826646\n",
      "  0.0541866   0.04808495  0.0446314   0.02504788  0.03734684  0.03488439\n",
      "  0.03015135  0.02237826  0.0136782   0.01856909  0.05900921  0.06435965\n",
      "  0.00424407  0.00189607  0.00390503  0.0093052   0.06664722  0.06152294\n",
      "  0.06449943  0.06943419  0.05642996  0.05268327  0.02019673  0.03042583\n",
      "  0.00875647  0.01429498  0.03500942  0.0356463   0.0474712   0.05411685\n",
      "  0.04899796  0.05910515  0.06230217  0.06394569  0.06990434  0.06711948\n",
      "  0.06922254  0.0332591   0.02536354  0.02674395  0.06015236  0.0726752\n",
      "  0.0710757   0.06925332  0.03308802  0.03944983  0.03551057  0.02496579\n",
      "  0.03372642  0.05872036  0.05154608  0.06995384  0.06555688  0.04556115\n",
      "  0.0618467   0.05614092  0.03650804  0.03395206  0.02901519  0.03851132\n",
      "  0.04927032  0.04929131  0.04234609  0.04950416  0.04936674  0.06685506\n",
      "  0.06487123  0.01075437  0.01191568  0.01583381  0.01026975  0.01037588\n",
      "  0.02341778  0.01471538  0.0104897   0.01061701  0.03130446  0.02658247\n",
      "  0.03669907  0.03999918  0.04362965  0.03708251  0.03196603  0.03133042\n",
      "  0.02946796  0.02643107  0.0353076   0.04019108  0.01270244  0.01690591\n",
      "  0.06008401  0.05562259  0.05523453  0.04796641  0.04209361  0.04134988\n",
      "  0.05047533  0.04604062  0.04973825  0.0492637   0.0340111   0.02657851\n",
      "  0.03379646  0.04658886  0.01766459  0.01930062  0.01696035  0.00884103\n",
      "  0.01816618  0.0107753   0.01068066  0.02035734  0.02950765  0.02054977\n",
      "  0.02419774  0.02818169  0.00724638  0.01563153  0.03152081  0.02679676\n",
      "  0.00670223  0.00832883  0.01661663  0.05349017  0.05606633  0.05868787\n",
      "  0.01307949  0.01441054  0.03195116  0.03530324  0.02401512  0.0203283\n",
      "  0.01560747  0.02101874  0.06076271  0.05727692  0.05591753  0.04890324\n",
      "  0.0044631   0.00212874  0.00436964  0.007038    0.01066004  0.00434225\n",
      "  0.00213274  0.00451021  0.01013151  0.05169316  0.04445866  0.03755728\n",
      "  0.04430037  0.05095557  0.00862317  0.01090843  0.01031329  0.00682466\n",
      "  0.00844593  0.01929893  0.03542433  0.04179085  0.01057582  0.01072785\n",
      "  0.03806579  0.01139401  0.017629    0.04270503  0.05020033  0.050173\n",
      "  0.04325329  0.01555782  0.02225653  0.032297    0.02662401  0.03398978\n",
      "  0.01331835  0.01313981  0.02245445  0.03486193  0.03489367  0.02557772\n",
      "  0.02000704  0.01684541  0.0221099   0.00440402  0.00225911  0.00481714\n",
      "  0.00812182  0.01182351  0.00736452  0.00611447  0.0335083   0.03116989\n",
      "  0.03503864  0.01044301  0.0130793   0.01253769  0.02240754  0.02545761\n",
      "  0.01468271  0.03340918  0.03396427  0.01935967  0.01162875  0.01327719\n",
      "  0.01387638  0.02529235  0.04421571  0.03420853  0.00999156  0.02009918\n",
      "  0.02587519  0.01340246]\n"
     ]
    },
    {
     "data": {
      "image/png": "[encoded data removed]",
      "text/plain": [
       "<matplotlib.figure.Figure at 0x830b588>"
      ]
     },
     "metadata": {},
     "output_type": "display_data"
    }
   ],
   "source": [
    "# Solve the simplest problem -Du = 1, Dirichlet boundary conditions\n",
    "\n",
    "A = np.zeros((N,N))\n",
    "b = np.zeros(N)\n",
    "\n",
    "# One big loop for all triangles\n",
    "for i in range(0,T):\n",
    "    \n",
    "    # Extract the vertices of the triangles\n",
    "    p1 = p[int(t[i,1])-1,1:3] #x1,y1\n",
    "    p2 = p[int(t[i,2])-1,1:3] #x2,y2\n",
    "    p3 = p[int(t[i,3])-1,1:3] #x3,y3\n",
    "    \n",
    "    verts = np.stack((p1, p2, p3)) # Put vertices into one array\n",
    "    \n",
    "    # Find the area of the triangle\n",
    "    T_area = np.linalg.det([[p2[0]-p1[0],p2[1]-p1[1]],[p3[0]-p1[0],p3[1]-p1[1]]])/2\n",
    "    \n",
    "    # Loop for the nodes\n",
    "    for k in range(0,3):\n",
    "        for j in range(0,3):\n",
    "            \n",
    "            # Index\n",
    "            k1 = (k+1)%3\n",
    "            k2 = (k+2)%3\n",
    "            j1 = (j+1)%3\n",
    "            j2 = (j+2)%3\n",
    "            \n",
    "            # Gradients\n",
    "            grad1 = np.array([verts[k1,1]-verts[k2,1],verts[k2,0]-verts[k1,0]])\n",
    "            grad2 = np.array([[verts[j1,1]-verts[j2,1]],[verts[j2,0]-verts[j1,0]]])\n",
    "            \n",
    "            # Fill the matrix\n",
    "            A[int(t[i,j+1])-1,int(t[i,k+1])-1] += 1./(4*T_area)*np.dot(grad1,grad2) \n",
    "        \n",
    "        # Right hand side\n",
    "        b[int(t[i,k+1])-1] += 1/3*T_area;\n",
    "\n",
    "# Boundary Conditions\n",
    "for n in range(0,N):\n",
    "    if p[n,1] == 0.0 or p[n,2] == 0.0 or p[n,1] == 1.0 or p[n,2] == 1.0:\n",
    "        A[n,:] = 0\n",
    "        A[:,n] = 0\n",
    "        A[n,n] = 1\n",
    "        b[n] = 0\n",
    "\n",
    "sol = np.linalg.solve(A, b)\n",
    "print(sol)\n",
    "\n",
    "import matplotlib.pyplot as plt\n",
    "plt.scatter(p[:,1], p[:,2], c=sol,s=200)\n",
    "plt.axis('equal')\n",
    "plt.hot()\n",
    "\n",
    "plt.show()"
   ]
  },
  {
   "cell_type": "code",
   "execution_count": 15,
   "metadata": {},
   "outputs": [
    {
     "data": {
      "image/png": "[encoded data removed]",
      "text/plain": [
       "<matplotlib.figure.Figure at 0xaff8f28>"
      ]
     },
     "metadata": {},
     "output_type": "display_data"
    }
   ],
   "source": [
    "plt.spy(A)\n",
    "plt.show()"
   ]
  },
  {
   "cell_type": "code",
   "execution_count": null,
   "metadata": {},
   "outputs": [],
   "source": []
  },
  {
   "cell_type": "code",
   "execution_count": null,
   "metadata": {
    "collapsed": true
   },
   "outputs": [],
   "source": []
  },
  {
   "cell_type": "code",
   "execution_count": null,
   "metadata": {
    "collapsed": true
   },
   "outputs": [],
   "source": []
  },
  {
   "cell_type": "code",
   "execution_count": null,
   "metadata": {
    "collapsed": true,
    "scrolled": true
   },
   "outputs": [],
   "source": []
  },
  {
   "cell_type": "code",
   "execution_count": null,
   "metadata": {
    "collapsed": true
   },
   "outputs": [],
   "source": []
  },
  {
   "cell_type": "code",
   "execution_count": null,
   "metadata": {
    "collapsed": true
   },
   "outputs": [],
   "source": []
  },
  {
   "cell_type": "code",
   "execution_count": null,
   "metadata": {
    "collapsed": true
   },
   "outputs": [],
   "source": []
  }
 ],
 "metadata": {
  "kernelspec": {
   "display_name": "Python 3",
   "language": "python",
   "name": "python3"
  },
  "language_info": {
   "codemirror_mode": {
    "name": "ipython",
    "version": 3
   },
   "file_extension": ".py",
   "mimetype": "text/x-python",
   "name": "python",
   "nbconvert_exporter": "python",
   "pygments_lexer": "ipython3",
   "version": "3.6.2"
  }
 },
 "nbformat": 4,
 "nbformat_minor": 1
}
