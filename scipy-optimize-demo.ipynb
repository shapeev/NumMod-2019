{
 "cells": [
  {
   "cell_type": "code",
   "execution_count": 1,
   "metadata": {},
   "outputs": [],
   "source": [
    "from scipy.optimize import rosen, rosen_der, rosen_hess, rosen_hess_prod, minimize\n",
    "from matplotlib import pyplot as plt\n",
    "import numpy as np\n",
    "import time\n",
    "import pandas as pd\n",
    "%matplotlib inline"
   ]
  },
  {
   "cell_type": "markdown",
   "metadata": {
    "collapsed": true
   },
   "source": [
    "### nice tutorial\n",
    "http://www.scipy-lectures.org/advanced/mathematical_optimization/\n",
    "\n",
    "Rosenbrock function:\n",
    "https://en.wikipedia.org/wiki/Rosenbrock_function"
   ]
  },
  {
   "cell_type": "code",
   "execution_count": 2,
   "metadata": {},
   "outputs": [
    {
     "data": {
      "text/plain": [
       "<matplotlib.colorbar.Colorbar at 0x17c75704ac8>"
      ]
     },
     "execution_count": 2,
     "metadata": {},
     "output_type": "execute_result"
    },
    {
     "data": {
      "image/png": "[encoded data removed]",
      "text/plain": [
       "<Figure size 432x288 with 2 Axes>"
      ]
     },
     "metadata": {
      "needs_background": "light"
     },
     "output_type": "display_data"
    }
   ],
   "source": [
    "x = np.linspace(-0.2, 2, 101)\n",
    "xx, yy = np.array(np.meshgrid(x, x))\n",
    "plt.contourf(x, x, rosen([xx, yy]))\n",
    "plt.plot(1,1,'w*')\n",
    "plt.colorbar()"
   ]
  },
  {
   "cell_type": "markdown",
   "metadata": {
    "collapsed": true
   },
   "source": [
    "### Solving equations:\n",
    "\n",
    "Newton's method:\n",
    "https://en.wikipedia.org/wiki/Newton%27s_method\n",
    "\n",
    "Secant method:\n",
    "https://en.wikipedia.org/wiki/Secant_method\n",
    "\n",
    "Broyden's method:\n",
    "https://en.wikipedia.org/wiki/Broyden%27s_method\n",
    "\n",
    "### Optimization\n",
    "\n",
    "Nelder-Mead algorithm:\n",
    "https://en.wikipedia.org/wiki/Nelder%E2%80%93Mead_method\n",
    "\n",
    "BFGS algorithm:\n",
    "https://en.wikipedia.org/wiki/Broyden%E2%80%93Fletcher%E2%80%93Goldfarb%E2%80%93Shanno_algorithm"
   ]
  },
  {
   "cell_type": "code",
   "execution_count": 3,
   "metadata": {},
   "outputs": [
    {
     "data": {
      "text/plain": [
       " final_simplex: (array([[0.99998529, 0.99997065],\n",
       "       [1.00002239, 1.00004372],\n",
       "       [1.00002909, 1.00005993]]), array([2.17177653e-10, 6.13513659e-10, 1.15113945e-09]))\n",
       "           fun: 2.1717765323851955e-10\n",
       "       message: 'Optimization terminated successfully.'\n",
       "          nfev: 158\n",
       "           nit: 84\n",
       "        status: 0\n",
       "       success: True\n",
       "             x: array([0.99998529, 0.99997065])"
      ]
     },
     "execution_count": 3,
     "metadata": {},
     "output_type": "execute_result"
    }
   ],
   "source": [
    "minimize(rosen, [2,3], method = 'Nelder-Mead')"
   ]
  },
  {
   "cell_type": "code",
   "execution_count": 4,
   "metadata": {},
   "outputs": [
    {
     "data": {
      "text/plain": [
       "      fun: 1.3831659900787323e-15\n",
       " hess_inv: array([[0.47650293, 0.95190424],\n",
       "       [0.95190424, 1.90655387]])\n",
       "      jac: array([ 5.64772996e-07, -3.16053139e-07])\n",
       "  message: 'Optimization terminated successfully.'\n",
       "     nfev: 27\n",
       "      nit: 22\n",
       "     njev: 27\n",
       "   status: 0\n",
       "  success: True\n",
       "        x: array([0.99999997, 0.99999993])"
      ]
     },
     "execution_count": 4,
     "metadata": {},
     "output_type": "execute_result"
    }
   ],
   "source": [
    "minimize(rosen, [2,3], method = 'BFGS', jac = rosen_der)"
   ]
  },
  {
   "cell_type": "code",
   "execution_count": 5,
   "metadata": {},
   "outputs": [
    {
     "data": {
      "text/plain": [
       "      fun: 2.0358652374859528e-11\n",
       " hess_inv: array([[0.47656557, 0.95202562],\n",
       "       [0.95202562, 1.90678873]])\n",
       "      jac: array([ 5.61677753e-07, -3.14229220e-07])\n",
       "  message: 'Optimization terminated successfully.'\n",
       "     nfev: 108\n",
       "      nit: 22\n",
       "     njev: 27\n",
       "   status: 0\n",
       "  success: True\n",
       "        x: array([0.99999549, 0.99999097])"
      ]
     },
     "execution_count": 5,
     "metadata": {},
     "output_type": "execute_result"
    }
   ],
   "source": [
    "minimize(rosen, [2,3], method = 'BFGS')"
   ]
  },
  {
   "cell_type": "code",
   "execution_count": 6,
   "metadata": {},
   "outputs": [
    {
     "data": {
      "text/plain": [
       "     fun: 7.72343981564415e-15\n",
       "     jac: array([ 2.90996478e-05, -1.46085845e-05])\n",
       " message: 'Optimization terminated successfully.'\n",
       "    nfev: 52\n",
       "    nhev: 35\n",
       "     nit: 35\n",
       "    njev: 86\n",
       "  status: 0\n",
       " success: True\n",
       "       x: array([0.99999991, 0.99999982])"
      ]
     },
     "execution_count": 6,
     "metadata": {},
     "output_type": "execute_result"
    }
   ],
   "source": [
    "minimize(rosen, [0,3], method = 'Newton-CG', jac = rosen_der, hess = rosen_hess)"
   ]
  },
  {
   "cell_type": "code",
   "execution_count": 82,
   "metadata": {},
   "outputs": [
    {
     "name": "stdout",
     "output_type": "stream",
     "text": [
      "Running Nelder-Mead\n",
      "Running Powell\n",
      "Running BFGS no jac\n",
      "Running BFGS\n",
      "Running L-BFGS-B no jac\n",
      "Running L-BFGS-B\n",
      "Running Newton-CG no hess\n",
      "Running Newton-CG\n"
     ]
    }
   ],
   "source": [
    "points = np.random.random((100, 2))*10-5\n",
    "methods = [\n",
    "    {'name': 'Nelder-Mead', 'method': 'Nelder-Mead', 'jac' : None, 'hess' : None},\n",
    "    {'name': 'Powell', 'method': 'Powell', 'jac' : None, 'hess' : None},\n",
    "    {'name': 'BFGS no jac', 'method': 'BFGS', 'jac' : None, 'hess' : None},\n",
    "    {'name': 'BFGS', 'method': 'BFGS', 'jac' : rosen_der, 'hess' : None},\n",
    "    {'name': 'L-BFGS-B no jac', 'method': 'L-BFGS-B', 'jac' : None, 'hess' : None},\n",
    "    {'name': 'L-BFGS-B', 'method': 'L-BFGS-B', 'jac' : rosen_der, 'hess' : None},\n",
    "    {'name': 'Newton-CG no hess', 'method': 'Newton-CG', 'jac' : rosen_der, 'hess' : None},\n",
    "    {'name': 'Newton-CG', 'method': 'Newton-CG', 'jac' : rosen_der, 'hess' : rosen_hess}\n",
    "]\n",
    "\n",
    "data = []\n",
    "solution_x = np.array([1,1])\n",
    "solution_fun = 0\n",
    "\n",
    "for method_json in methods:\n",
    "    print('Running', method_json['name'])\n",
    "    \n",
    "    for point in points:\n",
    "        t = time.time()\n",
    "        try:\n",
    "            res = minimize(rosen, point, method = method_json['method'],\n",
    "                           jac = method_json['jac'], hess = method_json['hess'])\n",
    "        except:\n",
    "            pass\n",
    "        \n",
    "        try:\n",
    "            njev = res.njev\n",
    "        except:\n",
    "            njev = 0\n",
    "        try:\n",
    "            nhev = res.nhev\n",
    "        except:\n",
    "            nhev = 0\n",
    "        data.append([method_json['name'], np.abs(res.fun - solution_fun), \n",
    "                    np.linalg.norm(solution_x - res.x),\n",
    "                    res.nfev, njev, nhev, res.nit, time.time() - t])"
   ]
  },
  {
   "cell_type": "code",
   "execution_count": 83,
   "metadata": {
    "collapsed": true
   },
   "outputs": [],
   "source": [
    "df = pd.DataFrame(data, columns = ['method', 'delta_fun', 'delta_x', 'nfev', 'njev', 'nhev', 'nit', 't'])"
   ]
  },
  {
   "cell_type": "code",
   "execution_count": 84,
   "metadata": {},
   "outputs": [
    {
     "data": {
      "text/html": [
       "<div>\n",
       "<style scoped>\n",
       "    .dataframe tbody tr th:only-of-type {\n",
       "        vertical-align: middle;\n",
       "    }\n",
       "\n",
       "    .dataframe tbody tr th {\n",
       "        vertical-align: top;\n",
       "    }\n",
       "\n",
       "    .dataframe thead th {\n",
       "        text-align: right;\n",
       "    }\n",
       "</style>\n",
       "<table border=\"1\" class=\"dataframe\">\n",
       "  <thead>\n",
       "    <tr style=\"text-align: right;\">\n",
       "      <th></th>\n",
       "      <th>delta_fun</th>\n",
       "      <th>delta_x</th>\n",
       "      <th>nfev</th>\n",
       "      <th>njev</th>\n",
       "      <th>nhev</th>\n",
       "      <th>nit</th>\n",
       "      <th>t</th>\n",
       "    </tr>\n",
       "    <tr>\n",
       "      <th>method</th>\n",
       "      <th></th>\n",
       "      <th></th>\n",
       "      <th></th>\n",
       "      <th></th>\n",
       "      <th></th>\n",
       "      <th></th>\n",
       "      <th></th>\n",
       "    </tr>\n",
       "  </thead>\n",
       "  <tbody>\n",
       "    <tr>\n",
       "      <th>BFGS</th>\n",
       "      <td>3.053659e-15</td>\n",
       "      <td>8.007213e-08</td>\n",
       "      <td>57.5</td>\n",
       "      <td>57.5</td>\n",
       "      <td>0.0</td>\n",
       "      <td>45.5</td>\n",
       "      <td>0.007</td>\n",
       "    </tr>\n",
       "    <tr>\n",
       "      <th>BFGS no jac</th>\n",
       "      <td>2.004611e-11</td>\n",
       "      <td>1.001689e-05</td>\n",
       "      <td>256.0</td>\n",
       "      <td>64.0</td>\n",
       "      <td>0.0</td>\n",
       "      <td>46.5</td>\n",
       "      <td>0.008</td>\n",
       "    </tr>\n",
       "    <tr>\n",
       "      <th>L-BFGS-B</th>\n",
       "      <td>1.344103e-14</td>\n",
       "      <td>1.896649e-07</td>\n",
       "      <td>41.5</td>\n",
       "      <td>0.0</td>\n",
       "      <td>0.0</td>\n",
       "      <td>33.0</td>\n",
       "      <td>0.003</td>\n",
       "    </tr>\n",
       "    <tr>\n",
       "      <th>L-BFGS-B no jac</th>\n",
       "      <td>9.073154e-12</td>\n",
       "      <td>6.735180e-06</td>\n",
       "      <td>127.5</td>\n",
       "      <td>0.0</td>\n",
       "      <td>0.0</td>\n",
       "      <td>33.0</td>\n",
       "      <td>0.003</td>\n",
       "    </tr>\n",
       "    <tr>\n",
       "      <th>Nelder-Mead</th>\n",
       "      <td>4.207443e-10</td>\n",
       "      <td>2.779476e-05</td>\n",
       "      <td>159.0</td>\n",
       "      <td>0.0</td>\n",
       "      <td>0.0</td>\n",
       "      <td>85.0</td>\n",
       "      <td>0.005</td>\n",
       "    </tr>\n",
       "    <tr>\n",
       "      <th>Newton-CG</th>\n",
       "      <td>3.114281e-12</td>\n",
       "      <td>3.949211e-06</td>\n",
       "      <td>55.0</td>\n",
       "      <td>95.0</td>\n",
       "      <td>41.0</td>\n",
       "      <td>41.0</td>\n",
       "      <td>0.010</td>\n",
       "    </tr>\n",
       "    <tr>\n",
       "      <th>Newton-CG no hess</th>\n",
       "      <td>2.300349e-12</td>\n",
       "      <td>3.393637e-06</td>\n",
       "      <td>57.0</td>\n",
       "      <td>226.0</td>\n",
       "      <td>0.0</td>\n",
       "      <td>41.0</td>\n",
       "      <td>0.012</td>\n",
       "    </tr>\n",
       "    <tr>\n",
       "      <th>Powell</th>\n",
       "      <td>2.310500e-29</td>\n",
       "      <td>7.275123e-15</td>\n",
       "      <td>529.5</td>\n",
       "      <td>0.0</td>\n",
       "      <td>0.0</td>\n",
       "      <td>18.0</td>\n",
       "      <td>0.014</td>\n",
       "    </tr>\n",
       "  </tbody>\n",
       "</table>\n",
       "</div>"
      ],
      "text/plain": [
       "                      delta_fun       delta_x   nfev   njev  nhev   nit      t\n",
       "method                                                                        \n",
       "BFGS               3.053659e-15  8.007213e-08   57.5   57.5   0.0  45.5  0.007\n",
       "BFGS no jac        2.004611e-11  1.001689e-05  256.0   64.0   0.0  46.5  0.008\n",
       "L-BFGS-B           1.344103e-14  1.896649e-07   41.5    0.0   0.0  33.0  0.003\n",
       "L-BFGS-B no jac    9.073154e-12  6.735180e-06  127.5    0.0   0.0  33.0  0.003\n",
       "Nelder-Mead        4.207443e-10  2.779476e-05  159.0    0.0   0.0  85.0  0.005\n",
       "Newton-CG          3.114281e-12  3.949211e-06   55.0   95.0  41.0  41.0  0.010\n",
       "Newton-CG no hess  2.300349e-12  3.393637e-06   57.0  226.0   0.0  41.0  0.012\n",
       "Powell             2.310500e-29  7.275123e-15  529.5    0.0   0.0  18.0  0.014"
      ]
     },
     "execution_count": 84,
     "metadata": {},
     "output_type": "execute_result"
    }
   ],
   "source": [
    "df.groupby('method').median()"
   ]
  },
  {
   "cell_type": "code",
   "execution_count": 8,
   "metadata": {},
   "outputs": [
    {
     "name": "stdout",
     "output_type": "stream",
     "text": [
      "('Running', 'Nelder-Mead')\n",
      "('Running', 'Powell')\n",
      "('Running', 'BFGS no jac')\n",
      "('Running', 'BFGS')\n",
      "('Running', 'L-BFGS-B no jac')\n",
      "('Running', 'L-BFGS-B')\n",
      "('Running', 'Newton-CG no hess')\n",
      "('Running', 'Newton-CG')\n"
     ]
    }
   ],
   "source": [
    "points = np.random.random((100, 10))*10-5\n",
    "methods = [\n",
    "    {'name': 'Nelder-Mead', 'method': 'Nelder-Mead', 'jac' : None, 'hess' : None},\n",
    "    {'name': 'Powell', 'method': 'Powell', 'jac' : None, 'hess' : None},\n",
    "    {'name': 'BFGS no jac', 'method': 'BFGS', 'jac' : None, 'hess' : None},\n",
    "    {'name': 'BFGS', 'method': 'BFGS', 'jac' : rosen_der, 'hess' : None},\n",
    "    {'name': 'L-BFGS-B no jac', 'method': 'L-BFGS-B', 'jac' : None, 'hess' : None},\n",
    "    {'name': 'L-BFGS-B', 'method': 'L-BFGS-B', 'jac' : rosen_der, 'hess' : None},\n",
    "    {'name': 'Newton-CG no hess', 'method': 'Newton-CG', 'jac' : rosen_der, 'hess' : None},\n",
    "    {'name': 'Newton-CG', 'method': 'Newton-CG', 'jac' : rosen_der, 'hess' : rosen_hess}\n",
    "]\n",
    "\n",
    "data = []\n",
    "solution_x = np.array([1]*10)\n",
    "solution_fun = 0\n",
    "\n",
    "for method_json in methods:\n",
    "    print('Running', method_json['name'])\n",
    "    \n",
    "    for point in points:\n",
    "        t = time.time()\n",
    "        res = minimize(rosen, point, method = method_json['method'],\n",
    "                       jac = method_json['jac'], hess = method_json['hess'])\n",
    "        try:\n",
    "            njev = res.njev\n",
    "        except:\n",
    "            njev = 0\n",
    "        try:\n",
    "            nhev = res.nhev\n",
    "        except:\n",
    "            nhev = 0\n",
    "        data.append([method_json['name'], np.abs(res.fun - solution_fun), \n",
    "                    np.linalg.norm(solution_x - res.x),\n",
    "                    res.nfev, njev, nhev, res.nit, time.time() - t])"
   ]
  },
  {
   "cell_type": "code",
   "execution_count": 79,
   "metadata": {
    "collapsed": true
   },
   "outputs": [],
   "source": [
    "df = pd.DataFrame(data, columns = ['method', 'delta_fun', 'delta_x', 'nfev', 'njev', 'nhev', 'nit', 't'])"
   ]
  },
  {
   "cell_type": "code",
   "execution_count": 80,
   "metadata": {},
   "outputs": [
    {
     "data": {
      "text/html": [
       "<div>\n",
       "<style scoped>\n",
       "    .dataframe tbody tr th:only-of-type {\n",
       "        vertical-align: middle;\n",
       "    }\n",
       "\n",
       "    .dataframe tbody tr th {\n",
       "        vertical-align: top;\n",
       "    }\n",
       "\n",
       "    .dataframe thead th {\n",
       "        text-align: right;\n",
       "    }\n",
       "</style>\n",
       "<table border=\"1\" class=\"dataframe\">\n",
       "  <thead>\n",
       "    <tr style=\"text-align: right;\">\n",
       "      <th></th>\n",
       "      <th>delta_fun</th>\n",
       "      <th>delta_x</th>\n",
       "      <th>nfev</th>\n",
       "      <th>njev</th>\n",
       "      <th>nhev</th>\n",
       "      <th>nit</th>\n",
       "      <th>t</th>\n",
       "    </tr>\n",
       "    <tr>\n",
       "      <th>method</th>\n",
       "      <th></th>\n",
       "      <th></th>\n",
       "      <th></th>\n",
       "      <th></th>\n",
       "      <th></th>\n",
       "      <th></th>\n",
       "      <th></th>\n",
       "    </tr>\n",
       "  </thead>\n",
       "  <tbody>\n",
       "    <tr>\n",
       "      <th>BFGS</th>\n",
       "      <td>2.236137e-14</td>\n",
       "      <td>5.178772e-08</td>\n",
       "      <td>134.0</td>\n",
       "      <td>134.0</td>\n",
       "      <td>0.0</td>\n",
       "      <td>118.5</td>\n",
       "      <td>0.015</td>\n",
       "    </tr>\n",
       "    <tr>\n",
       "      <th>BFGS no jac</th>\n",
       "      <td>6.015260e-11</td>\n",
       "      <td>1.541041e-05</td>\n",
       "      <td>1980.0</td>\n",
       "      <td>165.0</td>\n",
       "      <td>0.0</td>\n",
       "      <td>118.5</td>\n",
       "      <td>0.047</td>\n",
       "    </tr>\n",
       "    <tr>\n",
       "      <th>L-BFGS-B</th>\n",
       "      <td>1.541515e-10</td>\n",
       "      <td>3.568509e-06</td>\n",
       "      <td>87.0</td>\n",
       "      <td>0.0</td>\n",
       "      <td>0.0</td>\n",
       "      <td>72.5</td>\n",
       "      <td>0.006</td>\n",
       "    </tr>\n",
       "    <tr>\n",
       "      <th>L-BFGS-B no jac</th>\n",
       "      <td>1.952296e-10</td>\n",
       "      <td>1.147858e-05</td>\n",
       "      <td>957.0</td>\n",
       "      <td>0.0</td>\n",
       "      <td>0.0</td>\n",
       "      <td>72.5</td>\n",
       "      <td>0.018</td>\n",
       "    </tr>\n",
       "    <tr>\n",
       "      <th>Nelder-Mead</th>\n",
       "      <td>7.624811e+01</td>\n",
       "      <td>3.244311e+00</td>\n",
       "      <td>2000.0</td>\n",
       "      <td>0.0</td>\n",
       "      <td>0.0</td>\n",
       "      <td>1434.5</td>\n",
       "      <td>0.072</td>\n",
       "    </tr>\n",
       "    <tr>\n",
       "      <th>Newton-CG</th>\n",
       "      <td>3.274980e-09</td>\n",
       "      <td>1.015925e-04</td>\n",
       "      <td>72.0</td>\n",
       "      <td>131.0</td>\n",
       "      <td>60.0</td>\n",
       "      <td>60.0</td>\n",
       "      <td>0.015</td>\n",
       "    </tr>\n",
       "    <tr>\n",
       "      <th>Newton-CG no hess</th>\n",
       "      <td>2.811716e-09</td>\n",
       "      <td>1.007789e-04</td>\n",
       "      <td>69.0</td>\n",
       "      <td>666.5</td>\n",
       "      <td>0.0</td>\n",
       "      <td>57.5</td>\n",
       "      <td>0.029</td>\n",
       "    </tr>\n",
       "    <tr>\n",
       "      <th>Powell</th>\n",
       "      <td>1.542648e-20</td>\n",
       "      <td>2.644257e-11</td>\n",
       "      <td>6149.5</td>\n",
       "      <td>0.0</td>\n",
       "      <td>0.0</td>\n",
       "      <td>51.0</td>\n",
       "      <td>0.174</td>\n",
       "    </tr>\n",
       "  </tbody>\n",
       "</table>\n",
       "</div>"
      ],
      "text/plain": [
       "                      delta_fun       delta_x    nfev   njev  nhev     nit  \\\n",
       "method                                                                       \n",
       "BFGS               2.236137e-14  5.178772e-08   134.0  134.0   0.0   118.5   \n",
       "BFGS no jac        6.015260e-11  1.541041e-05  1980.0  165.0   0.0   118.5   \n",
       "L-BFGS-B           1.541515e-10  3.568509e-06    87.0    0.0   0.0    72.5   \n",
       "L-BFGS-B no jac    1.952296e-10  1.147858e-05   957.0    0.0   0.0    72.5   \n",
       "Nelder-Mead        7.624811e+01  3.244311e+00  2000.0    0.0   0.0  1434.5   \n",
       "Newton-CG          3.274980e-09  1.015925e-04    72.0  131.0  60.0    60.0   \n",
       "Newton-CG no hess  2.811716e-09  1.007789e-04    69.0  666.5   0.0    57.5   \n",
       "Powell             1.542648e-20  2.644257e-11  6149.5    0.0   0.0    51.0   \n",
       "\n",
       "                       t  \n",
       "method                    \n",
       "BFGS               0.015  \n",
       "BFGS no jac        0.047  \n",
       "L-BFGS-B           0.006  \n",
       "L-BFGS-B no jac    0.018  \n",
       "Nelder-Mead        0.072  \n",
       "Newton-CG          0.015  \n",
       "Newton-CG no hess  0.029  \n",
       "Powell             0.174  "
      ]
     },
     "execution_count": 80,
     "metadata": {},
     "output_type": "execute_result"
    }
   ],
   "source": [
    "df.groupby('method').median()"
   ]
  }
 ],
 "metadata": {
  "kernelspec": {
   "display_name": "Python 3",
   "language": "python",
   "name": "python3"
  },
  "language_info": {
   "codemirror_mode": {
    "name": "ipython",
    "version": 3
   },
   "file_extension": ".py",
   "mimetype": "text/x-python",
   "name": "python",
   "nbconvert_exporter": "python",
   "pygments_lexer": "ipython3",
   "version": "3.7.0"
  }
 },
 "nbformat": 4,
 "nbformat_minor": 2
}
