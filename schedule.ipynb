{
 "cells": [
  {
   "cell_type": "markdown",
   "metadata": {},
   "source": [
    "# Numerical Modeling  \n",
    "\n",
    "## Skoltech, Term 3, 2019"
   ]
  },
  {
   "cell_type": "markdown",
   "metadata": {},
   "source": [
    "**Course instructors: **\n",
    "Alexander Shapeev\n",
    "\n",
    "** TA:**\n",
    "* Ioannis Georgakis, PhD student"
   ]
  },
  {
   "cell_type": "markdown",
   "metadata": {},
   "source": [
    "[Course syllabus](syllabus.ipynb)\n",
    "\n",
    "Python [Crash Course](https://github.com/oseledets/nla2015/blob/master/lectures/Python_crash_course.ipynb)\n",
    "\n",
    "\n",
    "| Week | &nbsp; | Monday | Tuesday | Thursday |  |\n",
    "|---|---|---|---|---|---|\n",
    "|1 | (Jan 28-Feb 1)| [Lecture 1](lecture-1.ipynb) | [Lecture 2](lecture-2.ipynb) | [Lecture 3](lecture-3.ipynb) | [Problem Set 1](PS1.ipynb) (due Wednesday, February 13) \n",
    "|2 | (Feb 4-8)| [Lecture 4](lecture-4.ipynb) | [FD-1D.ipynb](practice_FD_1D.ipynb) | [Lecture 5](lecture-5.ipynb) | [Problem Set 2](PS2.ipynb) (due Wednesday, February 21) |\n",
    "|3 | (Feb 11-15)| [Lecture 6](lecture-6.ipynb) <br> [scipy.optimize demo](scipy-optimize-demo.ipynb) | &nbsp; | &nbsp; | &nbsp; |\n",
    "|4 | (Feb 18-22)| Recap | Midterm | &nbsp; | &nbsp; |\n",
    "|5 | (Feb 25-Mar 1)| [Lecture 7](lecture-7.ipynb) | [Lecture 8](lecture-8.ipynb) | &nbsp; | [Problem Set 3](PS3.ipynb) (due Thursday, March 7) |\n",
    "\n"
   ]
  },
  {
   "cell_type": "code",
   "execution_count": null,
   "metadata": {
    "collapsed": true
   },
   "outputs": [],
   "source": []
  }
 ],
 "metadata": {
  "kernelspec": {
   "display_name": "Python 3",
   "language": "python",
   "name": "python3"
  },
  "language_info": {
   "codemirror_mode": {
    "name": "ipython",
    "version": 3
   },
   "file_extension": ".py",
   "mimetype": "text/x-python",
   "name": "python",
   "nbconvert_exporter": "python",
   "pygments_lexer": "ipython3",
   "version": "3.7.0"
  }
 },
 "nbformat": 4,
 "nbformat_minor": 1
}
