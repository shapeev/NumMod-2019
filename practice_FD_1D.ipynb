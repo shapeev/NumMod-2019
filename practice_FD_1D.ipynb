{
 "cells": [
  {
   "cell_type": "code",
   "execution_count": 45,
   "metadata": {},
   "outputs": [],
   "source": [
    "import numpy as np\n",
    "import scipy as sp\n",
    "import scipy.sparse\n",
    "from scipy.sparse import csr_matrix\n",
    "from scipy.sparse.linalg import spsolve\n",
    "import matplotlib.pyplot as plt"
   ]
  },
  {
   "cell_type": "code",
   "execution_count": 2,
   "metadata": {},
   "outputs": [],
   "source": [
    "n=4"
   ]
  },
  {
   "cell_type": "code",
   "execution_count": 3,
   "metadata": {},
   "outputs": [],
   "source": [
    "def k(x):\n",
    "    return (1+x)"
   ]
  },
  {
   "cell_type": "code",
   "execution_count": 11,
   "metadata": {},
   "outputs": [],
   "source": [
    "def D(n):\n",
    "    h = 1/n\n",
    "    T = csr_matrix((np.ones(n),(np.arange(0,n),np.arange(1,n+1))))\n",
    "    return (T-sp.sparse.csr_matrix((np.ones(n),\n",
    "                                    (np.arange(0,n),np.arange(0,n))),\n",
    "                        shape=(n,n+1)))/h\n",
    "def Dm(n):\n",
    "    h = 1/n\n",
    "    T = csr_matrix((np.ones(n-1),(np.arange(0,n-1),np.arange(1,n))))\n",
    "    return (T-sp.sparse.csr_matrix((np.ones(n-1),\n",
    "                                    (np.arange(0,n-1),np.arange(0,n-1))),\n",
    "                        shape=(n-1,n)))/h"
   ]
  },
  {
   "cell_type": "code",
   "execution_count": 13,
   "metadata": {},
   "outputs": [
    {
     "data": {
      "text/plain": [
       "array([[-4.,  4.,  0.,  0.],\n",
       "       [ 0., -4.,  4.,  0.],\n",
       "       [ 0.,  0., -4.,  4.]])"
      ]
     },
     "execution_count": 13,
     "metadata": {},
     "output_type": "execute_result"
    }
   ],
   "source": [
    "Dm(4).toarray()"
   ]
  },
  {
   "cell_type": "code",
   "execution_count": 17,
   "metadata": {},
   "outputs": [
    {
     "data": {
      "text/plain": [
       "array([0.125, 0.375, 0.625, 0.875])"
      ]
     },
     "execution_count": 17,
     "metadata": {},
     "output_type": "execute_result"
    }
   ],
   "source": [
    "# Mesh of inner points\n",
    "h_global = 1/n\n",
    "inner_mesh = np.linspace(h_global/2,1-h_global/2,n)\n",
    "inner_mesh"
   ]
  },
  {
   "cell_type": "code",
   "execution_count": 18,
   "metadata": {},
   "outputs": [
    {
     "data": {
      "text/plain": [
       "[1.125, 1.375, 1.625, 1.875]"
      ]
     },
     "execution_count": 18,
     "metadata": {},
     "output_type": "execute_result"
    }
   ],
   "source": [
    "[k(x) for x in inner_mesh]"
   ]
  },
  {
   "cell_type": "code",
   "execution_count": 19,
   "metadata": {},
   "outputs": [],
   "source": [
    "def K(n):\n",
    "    h = 1/n\n",
    "    mesh = np.linspace(h/2,1-h/2,n)\n",
    "    return csr_matrix(([k(x) for x in mesh],\n",
    "                      (np.arange(0,n),np.arange(0,n))))"
   ]
  },
  {
   "cell_type": "code",
   "execution_count": 21,
   "metadata": {},
   "outputs": [
    {
     "data": {
      "text/plain": [
       "array([[ 18., -40.,  22.,   0.,   0.],\n",
       "       [  0.,  22., -48.,  26.,   0.],\n",
       "       [  0.,   0.,  26., -56.,  30.]])"
      ]
     },
     "execution_count": 21,
     "metadata": {},
     "output_type": "execute_result"
    }
   ],
   "source": [
    "Dm(n)*(K(n)*D(n)).toarray()"
   ]
  },
  {
   "cell_type": "code",
   "execution_count": 25,
   "metadata": {},
   "outputs": [],
   "source": [
    "temp = csr_matrix(([1],([0],[0])),shape=(1,n+1)).toarray()"
   ]
  },
  {
   "cell_type": "code",
   "execution_count": 30,
   "metadata": {},
   "outputs": [
    {
     "data": {
      "text/plain": [
       "<1x5 sparse matrix of type '<class 'numpy.int32'>'\n",
       "\twith 1 stored elements in Compressed Sparse Row format>"
      ]
     },
     "execution_count": 30,
     "metadata": {},
     "output_type": "execute_result"
    }
   ],
   "source": [
    "csr_matrix(([1],([0],[n])),shape=(1,n+1))"
   ]
  },
  {
   "cell_type": "code",
   "execution_count": 33,
   "metadata": {},
   "outputs": [
    {
     "data": {
      "text/plain": [
       "array([[  1.,   0.,   0.,   0.,   0.],\n",
       "       [ 18., -40.,  22.,   0.,   0.],\n",
       "       [  0.,  22., -48.,  26.,   0.],\n",
       "       [  0.,   0.,  26., -56.,  30.],\n",
       "       [  0.,   0.,   0.,   0.,   1.]])"
      ]
     },
     "execution_count": 33,
     "metadata": {},
     "output_type": "execute_result"
    }
   ],
   "source": [
    "sp.sparse.vstack([\n",
    "    csr_matrix(([1],([0],[0])),shape=(1,n+1)),\n",
    "    Dm(n)*(K(n)*D(n)),\n",
    "    csr_matrix(([1],([0],[n])),shape=(1,n+1))]).toarray()"
   ]
  },
  {
   "cell_type": "code",
   "execution_count": 34,
   "metadata": {},
   "outputs": [],
   "source": [
    "def A(n):\n",
    "    return sp.sparse.vstack([\n",
    "        csr_matrix(([1],([0],[0])),shape=(1,n+1)),\n",
    "        Dm(n)*(K(n)*D(n)),\n",
    "        csr_matrix(([1],([0],[n])),shape=(1,n+1))])"
   ]
  },
  {
   "cell_type": "code",
   "execution_count": 35,
   "metadata": {},
   "outputs": [
    {
     "data": {
      "text/plain": [
       "array([[  1.,   0.,   0.,   0.,   0.],\n",
       "       [ 18., -40.,  22.,   0.,   0.],\n",
       "       [  0.,  22., -48.,  26.,   0.],\n",
       "       [  0.,   0.,  26., -56.,  30.],\n",
       "       [  0.,   0.,   0.,   0.,   1.]])"
      ]
     },
     "execution_count": 35,
     "metadata": {},
     "output_type": "execute_result"
    }
   ],
   "source": [
    "A(n).toarray()"
   ]
  },
  {
   "cell_type": "code",
   "execution_count": 36,
   "metadata": {},
   "outputs": [],
   "source": [
    "def b(n):\n",
    "    v = np.zeros(n+1)\n",
    "    v[0]=0 # boundary conditions\n",
    "    v[n]=1\n",
    "    return v"
   ]
  },
  {
   "cell_type": "code",
   "execution_count": 39,
   "metadata": {},
   "outputs": [
    {
     "data": {
      "text/plain": [
       "array([0., 0., 0., 0., 1.])"
      ]
     },
     "execution_count": 39,
     "metadata": {},
     "output_type": "execute_result"
    }
   ],
   "source": [
    "b(n)"
   ]
  },
  {
   "cell_type": "code",
   "execution_count": 51,
   "metadata": {},
   "outputs": [
    {
     "data": {
      "text/plain": [
       "array([0.        , 0.0356231 , 0.07038782, 0.10433454, 0.13750088,\n",
       "       0.16992191, 0.20163038, 0.23265696, 0.26303034, 0.29277747,\n",
       "       0.32192364, 0.35049267, 0.37850695, 0.40598763, 0.43295465,\n",
       "       0.45942687, 0.4854221 , 0.51095725, 0.53604831, 0.56071045,\n",
       "       0.58495811, 0.60880498, 0.6322641 , 0.65534787, 0.67806812,\n",
       "       0.70043611, 0.72246261, 0.74415789, 0.76553175, 0.78659358,\n",
       "       0.80735237, 0.82781671, 0.84799483, 0.86789463, 0.88752369,\n",
       "       0.90688927, 0.92599835, 0.94485764, 0.96347358, 0.98185238,\n",
       "       1.        ])"
      ]
     },
     "execution_count": 51,
     "metadata": {},
     "output_type": "execute_result"
    }
   ],
   "source": [
    "n=40\n",
    "x = spsolve(A(n),b(n))\n",
    "x"
   ]
  },
  {
   "cell_type": "code",
   "execution_count": 52,
   "metadata": {},
   "outputs": [
    {
     "data": {
      "text/plain": [
       "[<matplotlib.lines.Line2D at 0x2907768e4e0>]"
      ]
     },
     "execution_count": 52,
     "metadata": {},
     "output_type": "execute_result"
    },
    {
     "data": {
      "image/png": "[encoded data removed]",
      "text/plain": [
       "<Figure size 432x288 with 1 Axes>"
      ]
     },
     "metadata": {
      "needs_background": "light"
     },
     "output_type": "display_data"
    }
   ],
   "source": [
    "pts = np.linspace(0,1,n+1);\n",
    "plt.plot(pts,[np.log(1+x)/np.log(2) for x in pts])\n",
    "plt.plot(pts,x,'o')"
   ]
  },
  {
   "cell_type": "code",
   "execution_count": 53,
   "metadata": {
    "scrolled": true
   },
   "outputs": [
    {
     "data": {
      "text/plain": [
       "[<matplotlib.lines.Line2D at 0x2907771d588>]"
      ]
     },
     "execution_count": 53,
     "metadata": {},
     "output_type": "execute_result"
    },
    {
     "data": {
      "image/png": "[encoded data removed]",
      "text/plain": [
       "<Figure size 432x288 with 1 Axes>"
      ]
     },
     "metadata": {
      "needs_background": "light"
     },
     "output_type": "display_data"
    }
   ],
   "source": [
    "plt.plot(pts,x - [np.log(1+x)/np.log(2) for x in pts])"
   ]
  },
  {
   "cell_type": "code",
   "execution_count": null,
   "metadata": {},
   "outputs": [],
   "source": []
  },
  {
   "cell_type": "code",
   "execution_count": null,
   "metadata": {},
   "outputs": [],
   "source": []
  }
 ],
 "metadata": {
  "kernelspec": {
   "display_name": "Python 3",
   "language": "python",
   "name": "python3"
  },
  "language_info": {
   "codemirror_mode": {
    "name": "ipython",
    "version": 3
   },
   "file_extension": ".py",
   "mimetype": "text/x-python",
   "name": "python",
   "nbconvert_exporter": "python",
   "pygments_lexer": "ipython3",
   "version": "3.7.0"
  }
 },
 "nbformat": 4,
 "nbformat_minor": 2
}
